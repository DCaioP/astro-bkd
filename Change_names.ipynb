{
 "cells": [
  {
   "cell_type": "code",
   "id": "initial_id",
   "metadata": {
    "collapsed": true,
    "ExecuteTime": {
     "end_time": "2024-09-25T20:40:21.471749Z",
     "start_time": "2024-09-25T20:40:21.464766Z"
    }
   },
   "source": [
    "import pandas as pd\n",
    "import faker as Faker\n",
    "\n",
    "faker = Faker(\"pt_BR\")\n",
    "\n",
    "path = \"app/ref\"\n",
    "\n",
    "file1 = path + r\"/DataSync - Apontamento_02.txt\""
   ],
   "outputs": [],
   "execution_count": 4
  },
  {
   "metadata": {
    "ExecuteTime": {
     "end_time": "2024-09-25T20:47:29.541635Z",
     "start_time": "2024-09-25T20:47:29.255943Z"
    }
   },
   "cell_type": "code",
   "source": [
    "df_entry = pd.read_csv(file1, encoding=\"latin-1\", delimiter=\"\\t\", header=None, low_memory=False, dtype=str)\n",
    "\n",
    "df_entry_new_names = df_entry[8].unique() \n",
    "\n",
    "df_entry_new_names.map()\n",
    "df_entry_new_names.tolist()\n",
    "\n",
    "df_entry_new_names"
   ],
   "id": "b62a5b7df517057d",
   "outputs": [
    {
     "ename": "AttributeError",
     "evalue": "'numpy.ndarray' object has no attribute 'replace'",
     "output_type": "error",
     "traceback": [
      "\u001B[1;31m---------------------------------------------------------------------------\u001B[0m",
      "\u001B[1;31mAttributeError\u001B[0m                            Traceback (most recent call last)",
      "Cell \u001B[1;32mIn[10], line 6\u001B[0m\n\u001B[0;32m      3\u001B[0m df_entry_new_names \u001B[38;5;241m=\u001B[39m df_entry[\u001B[38;5;241m8\u001B[39m]\u001B[38;5;241m.\u001B[39munique() \n\u001B[0;32m      5\u001B[0m df_entry_new_names\n\u001B[1;32m----> 6\u001B[0m \u001B[43mdf_entry_new_names\u001B[49m\u001B[38;5;241;43m.\u001B[39;49m\u001B[43mreplace\u001B[49m(Faker\u001B[38;5;241m.\u001B[39mname(), inplace \u001B[38;5;241m=\u001B[39m \u001B[38;5;28;01mTrue\u001B[39;00m)\n\u001B[0;32m      8\u001B[0m df_entry_new_names\n",
      "\u001B[1;31mAttributeError\u001B[0m: 'numpy.ndarray' object has no attribute 'replace'"
     ]
    }
   ],
   "execution_count": 10
  }
 ],
 "metadata": {
  "kernelspec": {
   "display_name": "Python 3",
   "language": "python",
   "name": "python3"
  },
  "language_info": {
   "codemirror_mode": {
    "name": "ipython",
    "version": 2
   },
   "file_extension": ".py",
   "mimetype": "text/x-python",
   "name": "python",
   "nbconvert_exporter": "python",
   "pygments_lexer": "ipython2",
   "version": "2.7.6"
  }
 },
 "nbformat": 4,
 "nbformat_minor": 5
}
